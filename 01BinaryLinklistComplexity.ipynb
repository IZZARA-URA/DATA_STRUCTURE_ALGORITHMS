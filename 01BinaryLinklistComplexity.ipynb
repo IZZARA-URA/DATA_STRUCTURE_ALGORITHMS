{
 "cells": [
  {
   "cell_type": "code",
   "execution_count": 1,
   "id": "cc1fb0ed",
   "metadata": {},
   "outputs": [],
   "source": [
    "import math\n"
   ]
  },
  {
   "cell_type": "markdown",
   "id": "17460ff5",
   "metadata": {},
   "source": [
    "### MOCK DATA"
   ]
  },
  {
   "cell_type": "code",
   "execution_count": 7,
   "id": "db268e7e",
   "metadata": {},
   "outputs": [],
   "source": [
    "tests = []\n",
    "tests.append({\n",
    "    'input': {\n",
    "        'cards': [13, 11, 10, 7, 4, 3, 1, 0],\n",
    "        'query': 1\n",
    "    },\n",
    "    'output': 6\n",
    "})\n",
    "tests.append({\n",
    "    'input': {\n",
    "        'cards': [4, 2, 1, -1],\n",
    "        'query': 4\n",
    "    },\n",
    "    'output': 0\n",
    "})\n",
    "tests.append({\n",
    "    'input': {\n",
    "        'cards': [3, -1, -9, -127],\n",
    "        'query': -127\n",
    "    },\n",
    "    'output': 3\n",
    "})\n",
    "tests.append({\n",
    "    'input': {\n",
    "        'cards': [6],\n",
    "        'query': 6\n",
    "    },\n",
    "    'output': 0 \n",
    "})\n",
    "# cards does not contain query \n",
    "tests.append({\n",
    "    'input': {\n",
    "        'cards': [9, 7, 5, 2, -9],\n",
    "        'query': 4\n",
    "    },\n",
    "    'output': -1\n",
    "})\n",
    "tests.append({\n",
    "    'input': {\n",
    "        'cards': [],\n",
    "        'query': 7\n",
    "    },\n",
    "    'output': -1\n",
    "})\n",
    "tests.append({\n",
    "    'input': {\n",
    "        'cards': [8, 8, 6, 6, 6, 6, 6, 3, 2, 2, 2, 0, 0, 0],\n",
    "        'query': 3\n",
    "    },\n",
    "    'output': 7\n",
    "})"
   ]
  },
  {
   "cell_type": "markdown",
   "id": "b77e9d15",
   "metadata": {},
   "source": [
    "### LINEAR SEARCH"
   ]
  },
  {
   "cell_type": "code",
   "execution_count": 3,
   "id": "0986596f",
   "metadata": {},
   "outputs": [
    {
     "name": "stdout",
     "output_type": "stream",
     "text": [
      "3\n"
     ]
    }
   ],
   "source": [
    "# linear search \n",
    "cards = [13, 11, 10, 7, 4, 3, 1, 0]\n",
    "query = 7\n",
    "output = 3\n",
    "\n",
    "def locate_card(cards, query):\n",
    "    position = 0 \n",
    "    while True: \n",
    "        if cards[position] == query: \n",
    "            return position\n",
    "        position += 1 \n",
    "        if position == len(cards): \n",
    "            return -1\n",
    "\n",
    "result = locate_card(cards, query)\n",
    "print(result)"
   ]
  },
  {
   "cell_type": "markdown",
   "id": "695cd606",
   "metadata": {},
   "source": [
    "### BINARY SEARCH"
   ]
  },
  {
   "cell_type": "code",
   "execution_count": 9,
   "id": "f789dcdd",
   "metadata": {},
   "outputs": [
    {
     "name": "stdout",
     "output_type": "stream",
     "text": [
      "mid: 3 mid_number: 7\n",
      "mid: 1 mid_number: 11\n",
      "mid: 2 mid_number: 10\n",
      "2\n"
     ]
    }
   ],
   "source": [
    "# binary search \n",
    "cards = [13, 11, 10, 7, 4, 3, 1, 0]\n",
    "query = 10\n",
    "output = 3\n",
    "\n",
    "def test_location(cards, query ,mid): \n",
    "    mid_number = cards[mid]\n",
    "    print(\"mid:\", mid, \"mid_number:\", mid_number)\n",
    "    if mid_number == query: \n",
    "        if mid - 1 >= 0 and cards[mid - 1] == query: \n",
    "            return \"left\"\n",
    "        else: \n",
    "            return 'found'\n",
    "    elif mid_number < query: \n",
    "        return 'left'\n",
    "    else: \n",
    "        return 'right'\n",
    "    \n",
    "def locate_card(cards, query):\n",
    "    low, high = 0, len(cards) - 1 \n",
    "    \n",
    "    while low <= high: \n",
    "        mid = (low + high) // 2 \n",
    "        result = test_location(cards, query, mid) \n",
    "        if result == 'found':\n",
    "            return mid\n",
    "        elif result == 'left': \n",
    "             high = mid - 1\n",
    "        elif result == 'right': \n",
    "             low = mid + 1\n",
    "        \n",
    "    return -1 \n",
    "\n",
    "\n",
    "result = locate_card(cards, query)\n",
    "print(result)"
   ]
  },
  {
   "cell_type": "markdown",
   "id": "10c7e448",
   "metadata": {},
   "source": [
    "### GENERTIC BINARY SEARCH\n",
    "Here is the general strategy behind binary search, which is applicable to a variety of problems:\n",
    "\n",
    "    Come up with a condition to determine whether the answer lies before, after or at a given position\n",
    "    \n",
    "    Retrieve the midpoint and the middle element of the list.\n",
    "    \n",
    "    If it is the answer, return the middle position as the answer.\n",
    "    \n",
    "    If answer lies before it, repeat the search with the first half of the list\n",
    "    \n",
    "    If the answer lies after it, repeat the search with the second half of the list.\n",
    "    "
   ]
  },
  {
   "cell_type": "code",
   "execution_count": 5,
   "id": "a93e4641",
   "metadata": {},
   "outputs": [
    {
     "data": {
      "text/plain": [
       "-1"
      ]
     },
     "execution_count": 5,
     "metadata": {},
     "output_type": "execute_result"
    }
   ],
   "source": [
    "# Generic Binary Search\n",
    "tests.append({\n",
    "    'input': {\n",
    "        'cards': [8, 8, 6, 6, 6, 6, 6, 3, 2, 2, 2, 0, 0, 0],\n",
    "        'query': 3\n",
    "    },\n",
    "    'output': 7\n",
    "})\n",
    "\n",
    "def binary_search(low, high, condition): \n",
    "    while low <= high: \n",
    "        mid = (low + high) // 2 \n",
    "        result = condition(mid)\n",
    "        if result == 'found': \n",
    "            return mid \n",
    "        elif result == 'left': \n",
    "            high = mid - 1 \n",
    "        else:\n",
    "            low = mid + 1 \n",
    "    return -1 \n",
    "\n",
    "def locate_card(cards, query): \n",
    "    def condition(mid): \n",
    "        if cards[mid] == query: \n",
    "            if mid > 0 and cards[mid - 1] == query: \n",
    "                return 'left'\n",
    "            else: \n",
    "                return 'found'\n",
    "        elif cards[mid] < query:\n",
    "            return 'left'\n",
    "        else: \n",
    "            return 'right'\n",
    "        \n",
    "    return binary_search(0, len(cards) - 1, condition)\n",
    "\n",
    "n=5\n",
    "locate_card(tests[n]['input']['cards'], tests[n]['input']['query'])"
   ]
  },
  {
   "cell_type": "code",
   "execution_count": 6,
   "id": "91f346cc",
   "metadata": {},
   "outputs": [
    {
     "data": {
      "text/plain": [
       "[{'input': {'cards': [13, 11, 10, 7, 4, 3, 1, 0], 'query': 1}, 'output': 6},\n",
       " {'input': {'cards': [4, 2, 1, -1], 'query': 4}, 'output': 0},\n",
       " {'input': {'cards': [3, -1, -9, -127], 'query': -127}, 'output': 3},\n",
       " {'input': {'cards': [6], 'query': 6}, 'output': 0},\n",
       " {'input': {'cards': [9, 7, 5, 2, -9], 'query': 4}, 'output': -1},\n",
       " {'input': {'cards': [], 'query': 7}, 'output': -1},\n",
       " {'input': {'cards': [8, 8, 6, 6, 6, 6, 6, 3, 2, 2, 2, 0, 0, 0], 'query': 3},\n",
       "  'output': 7},\n",
       " {'input': {'cards': [8, 8, 6, 6, 6, 6, 6, 3, 2, 2, 2, 0, 0, 0], 'query': 3},\n",
       "  'output': 7}]"
      ]
     },
     "execution_count": 6,
     "metadata": {},
     "output_type": "execute_result"
    }
   ],
   "source": [
    "tests"
   ]
  },
  {
   "cell_type": "code",
   "execution_count": null,
   "id": "ce147174",
   "metadata": {},
   "outputs": [],
   "source": []
  }
 ],
 "metadata": {
  "kernelspec": {
   "display_name": "Python 3 (ipykernel)",
   "language": "python",
   "name": "python3"
  },
  "language_info": {
   "codemirror_mode": {
    "name": "ipython",
    "version": 3
   },
   "file_extension": ".py",
   "mimetype": "text/x-python",
   "name": "python",
   "nbconvert_exporter": "python",
   "pygments_lexer": "ipython3",
   "version": "3.8.13"
  }
 },
 "nbformat": 4,
 "nbformat_minor": 5
}
