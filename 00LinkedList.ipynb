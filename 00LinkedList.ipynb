{
 "cells": [
  {
   "cell_type": "code",
   "execution_count": 65,
   "id": "f9b9463f",
   "metadata": {},
   "outputs": [],
   "source": [
    "class Node(): \n",
    "    def __init__(self, data): \n",
    "        self.data = data \n",
    "        self.next = None \n",
    "        \n",
    "class LinkedList(): \n",
    "    def __init__(self):\n",
    "        self.head = None\n",
    "        \n",
    "    def append(self, value):\n",
    "        if self.head is None:\n",
    "            self.head = Node(value)\n",
    "        else: \n",
    "            current_node = self.head\n",
    "            while current_node.next is not None:\n",
    "                current_node = current_node.next\n",
    "            current_node.next = Node(value)\n",
    "            \n",
    "    def show_elements(self):\n",
    "        current = self.head \n",
    "        while current is not None: \n",
    "            print(current.data)\n",
    "            current = current.next\n",
    "            \n",
    "    def length(self):\n",
    "        result = 0 \n",
    "        current = self.head \n",
    "        while current is not None:\n",
    "            result += 1 \n",
    "            current = current.next\n",
    "        return result\n",
    "    \n",
    "    def get_element(self, position):\n",
    "        i = 0 \n",
    "        current = self.head \n",
    "        while current is not None: \n",
    "            if i == position:\n",
    "                return current.data\n",
    "            current = current.next \n",
    "            i += 1 \n",
    "        return None\n",
    "        \n",
    "def reverse(l): \n",
    "    if l.head is None: \n",
    "        return \n",
    "    \n",
    "    current_node = l.head \n",
    "    prev_node = None \n",
    "    while current_node is not None: \n",
    "        next_node = current_node.next \n",
    "        current_node.next = prev_node \n",
    "        \n",
    "        prev_node = current_node \n",
    "        current_node = next_node\n",
    "        \n",
    "    l.head = prev_node"
   ]
  },
  {
   "cell_type": "markdown",
   "id": "246c0592",
   "metadata": {},
   "source": [
    "### SHOW RESULT"
   ]
  },
  {
   "cell_type": "code",
   "execution_count": 66,
   "id": "7d73d17f",
   "metadata": {},
   "outputs": [],
   "source": [
    "List = LinkedList()\n",
    "List.append(2)\n",
    "List.append(3)\n",
    "List.append(4)\n",
    "List.append(5)"
   ]
  },
  {
   "cell_type": "code",
   "execution_count": 67,
   "id": "712f8459",
   "metadata": {},
   "outputs": [
    {
     "name": "stdout",
     "output_type": "stream",
     "text": [
      "2\n",
      "3\n",
      "4\n",
      "5\n"
     ]
    }
   ],
   "source": [
    "List.show_elements()"
   ]
  },
  {
   "cell_type": "code",
   "execution_count": 68,
   "id": "5c2c8a30",
   "metadata": {},
   "outputs": [
    {
     "data": {
      "text/plain": [
       "4"
      ]
     },
     "execution_count": 68,
     "metadata": {},
     "output_type": "execute_result"
    }
   ],
   "source": [
    "List.length()"
   ]
  },
  {
   "cell_type": "code",
   "execution_count": 69,
   "id": "684a3612",
   "metadata": {},
   "outputs": [
    {
     "data": {
      "text/plain": [
       "3"
      ]
     },
     "execution_count": 69,
     "metadata": {},
     "output_type": "execute_result"
    }
   ],
   "source": [
    "List.get_element(1)"
   ]
  },
  {
   "cell_type": "code",
   "execution_count": 74,
   "id": "37eac097",
   "metadata": {},
   "outputs": [
    {
     "name": "stdout",
     "output_type": "stream",
     "text": [
      "5\n",
      "4\n",
      "3\n",
      "2\n"
     ]
    }
   ],
   "source": [
    "reverse(List)\n",
    "List.show_elements()"
   ]
  }
 ],
 "metadata": {
  "kernelspec": {
   "display_name": "Python 3 (ipykernel)",
   "language": "python",
   "name": "python3"
  },
  "language_info": {
   "codemirror_mode": {
    "name": "ipython",
    "version": 3
   },
   "file_extension": ".py",
   "mimetype": "text/x-python",
   "name": "python",
   "nbconvert_exporter": "python",
   "pygments_lexer": "ipython3",
   "version": "3.8.13"
  }
 },
 "nbformat": 4,
 "nbformat_minor": 5
}
