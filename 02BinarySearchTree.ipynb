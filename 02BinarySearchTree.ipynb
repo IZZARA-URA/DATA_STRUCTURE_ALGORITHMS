{
 "cells": [
  {
   "cell_type": "code",
   "execution_count": 194,
   "id": "c42fbe71",
   "metadata": {},
   "outputs": [
    {
     "name": "stdout",
     "output_type": "stream",
     "text": [
      "Hi David, I'm Jane Doe! Contact me at jane@doe.com.\n"
     ]
    }
   ],
   "source": [
    "\n",
    "class User(): \n",
    "    def __init__(self, username, name, email):\n",
    "        self.username = username \n",
    "        self.name = name \n",
    "        self.email = email \n",
    "        \n",
    "    def introduce_yourself(self, guest_name): \n",
    "        print(\"Hi {}, I'm {}! Contact me at {}.\".format(guest_name, self.name, self.email))\n",
    "    \n",
    "user = User('jane', 'Jane Doe', 'jane@doe.com')\n",
    "user.introduce_yourself('David')"
   ]
  },
  {
   "cell_type": "code",
   "execution_count": 195,
   "id": "80706c44",
   "metadata": {},
   "outputs": [
    {
     "data": {
      "text/plain": [
       "User(username='Jane', name='Jane Doe', email='jane@doe.com')"
      ]
     },
     "execution_count": 195,
     "metadata": {},
     "output_type": "execute_result"
    }
   ],
   "source": [
    "class User:\n",
    "    def __init__(self, username, name, email):\n",
    "        self.username = username\n",
    "        self.name = name\n",
    "        self.email = email\n",
    "        \n",
    "    def __repr__(self):\n",
    "        return \"User(username='{}', name='{}', email='{}')\".format(self.username, self.name, self.email)\n",
    "    \n",
    "    def __str__(self):\n",
    "        return self.__repr__()\n",
    "\n",
    "user = User('Jane', 'Jane Doe', 'jane@doe.com')\n",
    "user"
   ]
  },
  {
   "cell_type": "code",
   "execution_count": 196,
   "id": "d08a3484",
   "metadata": {},
   "outputs": [
    {
     "data": {
      "text/plain": [
       "[User(username='aakash', name='Aakash Rai', email='aakash@example.com'),\n",
       " User(username='hemanth', name='Hemanth Jain', email='hemanth@example.com'),\n",
       " User(username='siddhant', name='Siddhant Sinha', email='siddhant@example.com')]"
      ]
     },
     "execution_count": 196,
     "metadata": {},
     "output_type": "execute_result"
    }
   ],
   "source": [
    "# class User(): \n",
    "#     def __init__(self, username, name, email):\n",
    "#         self.username = username \n",
    "#         self.name = name \n",
    "#         self.email = email \n",
    "\n",
    "class UserDatabase: \n",
    "    def __init__(self):\n",
    "        self.users = []\n",
    "        \n",
    "    def insert(self, user): \n",
    "        i = 0\n",
    "        while i < len(self.users): \n",
    "            if self.users[i].username > user.username: \n",
    "                break \n",
    "            i += 1 \n",
    "        self.users.insert(i, user)\n",
    "            \n",
    "    def find(self, username): \n",
    "        for user in  self.users: \n",
    "            if user.username == username: \n",
    "                return user\n",
    "            \n",
    "    def update(self, user): \n",
    "        target = self.find(user.username)\n",
    "        target.name. target.email = user.name, user.email\n",
    "    \n",
    "    def list_all(self): \n",
    "        return self.users\n",
    "            \n",
    "        \n",
    "        \n",
    "aakash   = User('aakash', 'Aakash Rai', 'aakash@example.com')\n",
    "biraj    = User('biraj', 'Biraj Das', 'biraj@example.com')\n",
    "hemanth  = User('hemanth', 'Hemanth Jain', 'hemanth@example.com')\n",
    "jadhesh  = User('jadhesh', 'Jadhesh Verma', 'jadhesh@example.com')\n",
    "siddhant = User('siddhant', 'Siddhant Sinha', 'siddhant@example.com')\n",
    "sonaksh  = User('sonaksh', 'Sonaksh Kumar', 'sonaksh@example.com')\n",
    "vishal   = User('vishal', 'Vishal Goel', 'vishal@example.com')\n",
    "\n",
    "users = [aakash, biraj, hemanth, jadhesh, siddhant, sonaksh, vishal]\n",
    "\n",
    "database = UserDatabase()\n",
    "\n",
    "database.insert(hemanth)\n",
    "database.insert(aakash)\n",
    "database.insert(siddhant)\n",
    "\n",
    "\n",
    "database.list_all()"
   ]
  },
  {
   "cell_type": "code",
   "execution_count": 197,
   "id": "a9ae8257",
   "metadata": {},
   "outputs": [
    {
     "data": {
      "text/plain": [
       "User(username='hemanth', name='Hemanth Jain', email='hemanth@example.com')"
      ]
     },
     "execution_count": 197,
     "metadata": {},
     "output_type": "execute_result"
    }
   ],
   "source": [
    "database = database.find('hemanth')\n",
    "database"
   ]
  },
  {
   "cell_type": "markdown",
   "id": "16d59b67",
   "metadata": {},
   "source": [
    "### Analyze the algorithm's complexity and identifficiencies \n",
    "\n",
    "The operation 'insert' 'find' 'update' involes iterating over list of users, in worst case, \n",
    "\n",
    "they may take up to N iterations to return a result, \n",
    "\n",
    "where  N is total number of user. list_all however, simply returns the existing internal list of users.\n",
    "\n",
    "the time complexity of various operations are: \n",
    "    \n",
    "    Insert: O(N)\n",
    "    \n",
    "    Find: O(N)\n",
    "    \n",
    "    Update: O(N)\n",
    "    \n",
    "    List: O(1)"
   ]
  },
  {
   "cell_type": "markdown",
   "id": "09de19c7",
   "metadata": {},
   "source": [
    "### BINARY TREE"
   ]
  },
  {
   "cell_type": "code",
   "execution_count": 198,
   "id": "1c68e9c6",
   "metadata": {},
   "outputs": [
    {
     "data": {
      "text/plain": [
       "120"
      ]
     },
     "execution_count": 198,
     "metadata": {},
     "output_type": "execute_result"
    }
   ],
   "source": [
    "## note recusive function \n",
    "def factorial(n): \n",
    "    if n == 0: \n",
    "        return 1 \n",
    "    else: \n",
    "        return n * factorial(n - 1)\n",
    "    \n",
    "factorial(5)"
   ]
  },
  {
   "cell_type": "code",
   "execution_count": 199,
   "id": "0a242078",
   "metadata": {},
   "outputs": [],
   "source": [
    "class TreeNode: \n",
    "    def __init__(self, key):\n",
    "        self.key = key \n",
    "        self.left = None \n",
    "        self.right = None"
   ]
  },
  {
   "cell_type": "code",
   "execution_count": 200,
   "id": "f4a12035",
   "metadata": {},
   "outputs": [],
   "source": [
    "node0 = TreeNode(3)\n",
    "node1 = TreeNode(4)\n",
    "node2 = TreeNode(5)\n",
    "\n",
    "\n",
    "tree = node0\n",
    "node0.left = node1\n",
    "node0.right = node2"
   ]
  },
  {
   "cell_type": "code",
   "execution_count": 201,
   "id": "47399da2",
   "metadata": {},
   "outputs": [
    {
     "data": {
      "text/plain": [
       "5"
      ]
     },
     "execution_count": 201,
     "metadata": {},
     "output_type": "execute_result"
    }
   ],
   "source": [
    "tree.key\n",
    "tree.left.key\n",
    "tree.right.key"
   ]
  },
  {
   "cell_type": "code",
   "execution_count": 202,
   "id": "c4a4cde3",
   "metadata": {},
   "outputs": [
    {
     "name": "stdout",
     "output_type": "stream",
     "text": [
      "      8\n",
      "    7\n",
      "      6\n",
      "  5\n",
      "      4\n",
      "    3\n",
      "      ∅\n",
      "2\n",
      "    ∅\n",
      "  3\n",
      "    1\n"
     ]
    }
   ],
   "source": [
    "def parse_tuple(data):\n",
    "#     print(data)\n",
    "    if isinstance(data, tuple) and len(data) == 3:\n",
    "        node = TreeNode(data[1])\n",
    "        node.left = parse_tuple(data[0])\n",
    "        node.right = parse_tuple(data[2])\n",
    "    elif data is None:\n",
    "        node = None\n",
    "    else:\n",
    "        node = TreeNode(data)\n",
    "    return node\n",
    "\n",
    "def display_keys(node, space='\\t', level=0):\n",
    "#     print(node.key if node else None, level)\n",
    "    \n",
    "    # If the node is empty\n",
    "    if node is None:\n",
    "        print(space*level + '∅')\n",
    "        return   \n",
    "    \n",
    "    # If the node is a leaf \n",
    "    if node.left is None and node.right is None:\n",
    "        print(space*level + str(node.key))\n",
    "        return\n",
    "    \n",
    "    # If the node has children\n",
    "    display_keys(node.right, space, level+1)\n",
    "    print(space*level + str(node.key))\n",
    "    display_keys(node.left,space, level+1)    \n",
    "    \n",
    "\n",
    "\n",
    "tree_tuple = ((1,3,None), 2, ((None, 3, 4), 5, (6, 7, 8)))\n",
    "\n",
    "tree2 = parse_tuple(((1,3,None), 2, ((None, 3, 4), 5, (6, 7, 8))))\n",
    "\n",
    "display_keys(tree2, '  ')"
   ]
  },
  {
   "cell_type": "markdown",
   "id": "2615440a",
   "metadata": {},
   "source": [
    "### TRAVERSAL"
   ]
  },
  {
   "cell_type": "code",
   "execution_count": 203,
   "id": "7d136798",
   "metadata": {},
   "outputs": [
    {
     "data": {
      "text/plain": [
       "[1, 3, 2, 3, 4, 5, 6, 7, 8]"
      ]
     },
     "execution_count": 203,
     "metadata": {},
     "output_type": "execute_result"
    }
   ],
   "source": [
    "def traverse_in_order(node):\n",
    "    if node is None: \n",
    "        return []\n",
    "    return (traverse_in_order(node.left) + [node.key] + traverse_in_order(node.right))\n",
    "\n",
    "traverse_in_order(tree2)"
   ]
  },
  {
   "cell_type": "markdown",
   "id": "641b46e9",
   "metadata": {},
   "source": [
    "### HEIGHT AND SIZE"
   ]
  },
  {
   "cell_type": "code",
   "execution_count": 204,
   "id": "bb40cb01",
   "metadata": {},
   "outputs": [],
   "source": [
    "def tree_height(node):\n",
    "    if node is None:\n",
    "        return 0 \n",
    "    return 1 + max(tree_height(node.left), tree_height(node.right))\n",
    "\n",
    "def tree_size(node):\n",
    "    if node is None: \n",
    "        return 0 \n",
    "    return 1 + tree_size(node.left) + tree_size(node.right)\n",
    "\n"
   ]
  },
  {
   "cell_type": "code",
   "execution_count": 205,
   "id": "9b49c459",
   "metadata": {},
   "outputs": [
    {
     "data": {
      "text/plain": [
       "4"
      ]
     },
     "execution_count": 205,
     "metadata": {},
     "output_type": "execute_result"
    }
   ],
   "source": [
    "tree_height(tree2)"
   ]
  },
  {
   "cell_type": "code",
   "execution_count": 206,
   "id": "72fd0cc1",
   "metadata": {},
   "outputs": [
    {
     "data": {
      "text/plain": [
       "3"
      ]
     },
     "execution_count": 206,
     "metadata": {},
     "output_type": "execute_result"
    }
   ],
   "source": [
    "tree_size(tree)"
   ]
  },
  {
   "cell_type": "code",
   "execution_count": 207,
   "id": "e8a08f96",
   "metadata": {},
   "outputs": [],
   "source": [
    "class TreeNode():\n",
    "    def __init__(self, key):\n",
    "        self.key = key \n",
    "        self.left = None \n",
    "        self.right = None \n",
    "        \n",
    "    def height(self): \n",
    "        if self is None: \n",
    "            return 0 \n",
    "        return 1 + max(TreeNode.height(self.left), TreeNode.height(self.right))\n",
    "    \n",
    "    def size(self): \n",
    "        if self is None:\n",
    "            return 0 \n",
    "        return 1 + TreeNode.size(self.left) + TreeNode.size(self.right)\n",
    "    \n",
    "    def traverse_in_order(self):\n",
    "        if self is None:\n",
    "            return [] \n",
    "        return (TreeNode.traverse_in_order(self.left) + [self.key] + TreeNode.traverse_in_order(self.right))\n",
    "    \n",
    "    def display_keys(self, space='\\t', level=0):\n",
    "        if self is None:\n",
    "            print(space*level + '∅')\n",
    "            return \n",
    "        \n",
    "        if self.left is None and self.right is None: \n",
    "            print(space*level + str(self.key))\n",
    "            return\n",
    "        \n",
    "        display_keys(self.right, space, level+1)\n",
    "        print(space*level + str(self.key))\n",
    "        display_keys(self.left,space, level+1)\n",
    "        \n",
    "    def to_tuple(self): \n",
    "        if self is None: \n",
    "            return None\n",
    "        if self.left is None and self.right is None: \n",
    "            return self.key\n",
    "        return TreeNode.to_tuple(self.left), self.key, TreeNode.to_tuple(self.right)\n",
    "        \n",
    "    def __str__(self):\n",
    "        return \"Binary Tree <{}>\".format(self.to_tuple())\n",
    "    \n",
    "    def __repr__(self):\n",
    "        return \"Binary Tree <{}>\".format(self.to_tuple())\n",
    "    \n",
    "    @staticmethod\n",
    "    def parse_tuple(data):\n",
    "        if data is None:\n",
    "            node = None\n",
    "        elif isinstance(data, tuple) and len(data) == 3:\n",
    "            node = TreeNode(data[1])\n",
    "            node.left = TreeNode.parse_tuple(data[0])\n",
    "            node.right = TreeNode.parse_tuple(data[2])\n",
    "        else:\n",
    "            node = TreeNode(data)\n",
    "        return node\n",
    "    "
   ]
  },
  {
   "cell_type": "code",
   "execution_count": 208,
   "id": "0a02c950",
   "metadata": {},
   "outputs": [],
   "source": [
    "tree = TreeNode.parse_tuple(tree_tuple)"
   ]
  },
  {
   "cell_type": "code",
   "execution_count": 209,
   "id": "449cfc3a",
   "metadata": {},
   "outputs": [
    {
     "name": "stdout",
     "output_type": "stream",
     "text": [
      "      8\n",
      "    7\n",
      "      6\n",
      "  5\n",
      "      4\n",
      "    3\n",
      "      ∅\n",
      "2\n",
      "    ∅\n",
      "  3\n",
      "    1\n"
     ]
    }
   ],
   "source": [
    "tree.display_keys('  ')"
   ]
  },
  {
   "cell_type": "code",
   "execution_count": 210,
   "id": "9e4e5fc5",
   "metadata": {},
   "outputs": [
    {
     "data": {
      "text/plain": [
       "4"
      ]
     },
     "execution_count": 210,
     "metadata": {},
     "output_type": "execute_result"
    }
   ],
   "source": [
    "tree.height()"
   ]
  },
  {
   "cell_type": "code",
   "execution_count": 211,
   "id": "fb558a8e",
   "metadata": {},
   "outputs": [
    {
     "data": {
      "text/plain": [
       "9"
      ]
     },
     "execution_count": 211,
     "metadata": {},
     "output_type": "execute_result"
    }
   ],
   "source": [
    "tree.size()"
   ]
  },
  {
   "cell_type": "code",
   "execution_count": 212,
   "id": "e15693ef",
   "metadata": {},
   "outputs": [
    {
     "data": {
      "text/plain": [
       "[1, 3, 2, 3, 4, 5, 6, 7, 8]"
      ]
     },
     "execution_count": 212,
     "metadata": {},
     "output_type": "execute_result"
    }
   ],
   "source": [
    "tree.traverse_in_order()"
   ]
  },
  {
   "cell_type": "code",
   "execution_count": 213,
   "id": "4568b087",
   "metadata": {},
   "outputs": [
    {
     "data": {
      "text/plain": [
       "((1, 3, None), 2, ((None, 3, 4), 5, (6, 7, 8)))"
      ]
     },
     "execution_count": 213,
     "metadata": {},
     "output_type": "execute_result"
    }
   ],
   "source": [
    "tree.to_tuple()"
   ]
  },
  {
   "cell_type": "markdown",
   "id": "ddbf3ef4",
   "metadata": {},
   "source": [
    "### BINARY SEARCH TREE"
   ]
  },
  {
   "cell_type": "code",
   "execution_count": 214,
   "id": "9159559f",
   "metadata": {},
   "outputs": [],
   "source": [
    "def remove_none(nums):\n",
    "    return [x for x in nums if x is not None]\n",
    "\n",
    "def is_bst(node):\n",
    "    if node is None: \n",
    "        return True, None, None\n",
    "    \n",
    "    is_bst_l, min_l, max_l = is_bst(node.left)\n",
    "    is_bst_r, min_r, max_r = is_bst(node.right)\n",
    "    \n",
    "    # untill max_l is None: Use node.key if node.key > max_l\n",
    "    # untill min_r is None: Use node.key if node.key < min_r\n",
    "    is_bst_node = (is_bst_l and is_bst_r and (max_l is None or node.key > max_l) and (min_r is None or node.key < min_r))\n",
    "    \n",
    "    min_key = min(remove_none([min_l, node.key, min_r]))\n",
    "    max_key = max(remove_none([max_l, node.key, max_r]))\n",
    "    \n",
    "    return is_bst_node, min_key, max_key"
   ]
  },
  {
   "cell_type": "code",
   "execution_count": 215,
   "id": "e0f446f1",
   "metadata": {},
   "outputs": [],
   "source": [
    "tree1 = TreeNode.parse_tuple(((1, 3, None), 2, ((None, 3, 4), 5, (6, 7, 8))))"
   ]
  },
  {
   "cell_type": "code",
   "execution_count": 216,
   "id": "97952ba6",
   "metadata": {},
   "outputs": [
    {
     "data": {
      "text/plain": [
       "Binary Tree <((1, 3, None), 2, ((None, 3, 4), 5, (6, 7, 8)))>"
      ]
     },
     "execution_count": 216,
     "metadata": {},
     "output_type": "execute_result"
    }
   ],
   "source": [
    "tree1"
   ]
  },
  {
   "cell_type": "code",
   "execution_count": 217,
   "id": "4123a62e",
   "metadata": {},
   "outputs": [
    {
     "data": {
      "text/plain": [
       "(False, 1, 8)"
      ]
     },
     "execution_count": 217,
     "metadata": {},
     "output_type": "execute_result"
    }
   ],
   "source": [
    "is_bst(tree1)"
   ]
  },
  {
   "cell_type": "code",
   "execution_count": 218,
   "id": "b79e60d3",
   "metadata": {},
   "outputs": [],
   "source": [
    "tree2 = TreeNode.parse_tuple((('aakash', 'biraj', 'hemanth')  , 'jadhesh', ('siddhant', 'sonaksh', 'vishal')))\n"
   ]
  },
  {
   "cell_type": "code",
   "execution_count": 219,
   "id": "aece25d1",
   "metadata": {},
   "outputs": [
    {
     "data": {
      "text/plain": [
       "(True, 'aakash', 'vishal')"
      ]
     },
     "execution_count": 219,
     "metadata": {},
     "output_type": "execute_result"
    }
   ],
   "source": [
    "is_bst(tree2)"
   ]
  },
  {
   "cell_type": "markdown",
   "id": "83d068fc",
   "metadata": {},
   "source": [
    "### STORING key-value Pairs using BSTs"
   ]
  },
  {
   "cell_type": "code",
   "execution_count": 220,
   "id": "2941f3e1",
   "metadata": {},
   "outputs": [],
   "source": [
    "class BSTNode(): \n",
    "    def __init__(self, key, value=None):\n",
    "        self.key = key\n",
    "        self.value = value \n",
    "        self.left = None \n",
    "        self.right = None \n",
    "        self.parent = None"
   ]
  },
  {
   "cell_type": "code",
   "execution_count": 221,
   "id": "d088b6cf",
   "metadata": {},
   "outputs": [],
   "source": [
    "tree = BSTNode(jadhesh.username, jadhesh)"
   ]
  },
  {
   "cell_type": "code",
   "execution_count": 222,
   "id": "48925297",
   "metadata": {},
   "outputs": [
    {
     "data": {
      "text/plain": [
       "'jadhesh'"
      ]
     },
     "execution_count": 222,
     "metadata": {},
     "output_type": "execute_result"
    }
   ],
   "source": [
    "tree.key"
   ]
  },
  {
   "cell_type": "code",
   "execution_count": 223,
   "id": "788c62ad",
   "metadata": {},
   "outputs": [
    {
     "data": {
      "text/plain": [
       "User(username='jadhesh', name='Jadhesh Verma', email='jadhesh@example.com')"
      ]
     },
     "execution_count": 223,
     "metadata": {},
     "output_type": "execute_result"
    }
   ],
   "source": [
    "tree.value"
   ]
  },
  {
   "cell_type": "markdown",
   "id": "84dc6f08",
   "metadata": {},
   "source": [
    "### INSERTION INTO BST"
   ]
  },
  {
   "cell_type": "code",
   "execution_count": 224,
   "id": "4c479c04",
   "metadata": {},
   "outputs": [],
   "source": [
    "def insert(node, key, value):\n",
    "    if node is None: \n",
    "        node = BSTNode(key, value)\n",
    "    elif key < node.key:\n",
    "        node.left = insert(node.left, key, value)\n",
    "        node.left.parent = node\n",
    "    elif key > node.key: \n",
    "        node.right = insert(node.right, key, value)\n",
    "        node.right.parent = node\n",
    "    return node"
   ]
  },
  {
   "cell_type": "code",
   "execution_count": 225,
   "id": "693a0b1e",
   "metadata": {},
   "outputs": [],
   "source": [
    "tree = insert(None, jadhesh.username, jadhesh) # root"
   ]
  },
  {
   "cell_type": "code",
   "execution_count": 226,
   "id": "8fdf8a3a",
   "metadata": {},
   "outputs": [
    {
     "data": {
      "text/plain": [
       "<__main__.BSTNode at 0x7f7944e0a040>"
      ]
     },
     "execution_count": 226,
     "metadata": {},
     "output_type": "execute_result"
    }
   ],
   "source": [
    "insert(tree, biraj.username, biraj)\n",
    "insert(tree, sonaksh.username, sonaksh)\n",
    "insert(tree, aakash.username, aakash)\n",
    "insert(tree, hemanth.username, hemanth)\n",
    "insert(tree, siddhant.username, siddhant)\n",
    "insert(tree, vishal.username, siddhant)"
   ]
  },
  {
   "cell_type": "code",
   "execution_count": 227,
   "id": "fcdd74a7",
   "metadata": {},
   "outputs": [
    {
     "name": "stdout",
     "output_type": "stream",
     "text": [
      "\t\tvishal\n",
      "\tsonaksh\n",
      "\t\tsiddhant\n",
      "jadhesh\n",
      "\t\themanth\n",
      "\tbiraj\n",
      "\t\taakash\n"
     ]
    }
   ],
   "source": [
    "def display_keys(node, space='\\t', level=0):\n",
    "#     print(node.key if node else None, level)\n",
    "    \n",
    "    # If the node is empty\n",
    "    if node is None:\n",
    "        print(space*level + '∅')\n",
    "        return   \n",
    "    \n",
    "    # If the node is a leaf \n",
    "    if node.left is None and node.right is None:\n",
    "        print(space*level + str(node.key))\n",
    "        return\n",
    "    \n",
    "    # If the node has children\n",
    "    display_keys(node.right, space, level+1)\n",
    "    print(space*level + str(node.key))\n",
    "    display_keys(node.left,space, level+1)   \n",
    "    \n",
    "display_keys(tree)"
   ]
  },
  {
   "cell_type": "code",
   "execution_count": 228,
   "id": "41de3e01",
   "metadata": {},
   "outputs": [
    {
     "data": {
      "text/plain": [
       "<__main__.BSTNode at 0x7f7944dffa30>"
      ]
     },
     "execution_count": 228,
     "metadata": {},
     "output_type": "execute_result"
    }
   ],
   "source": [
    "tree2 = insert(None, aakash.username, aakash) # root\n",
    "insert(tree2, biraj.username, biraj)\n",
    "insert(tree2, hemanth.username, hemanth)\n",
    "insert(tree2, jadhesh.username, jadhesh)\n",
    "insert(tree2, siddhant.username, siddhant)\n",
    "insert(tree2, sonaksh.username, sonaksh)\n",
    "insert(tree2, vishal.username, vishal)"
   ]
  },
  {
   "cell_type": "code",
   "execution_count": 229,
   "id": "ce3bc9c9",
   "metadata": {},
   "outputs": [
    {
     "name": "stdout",
     "output_type": "stream",
     "text": [
      "\t\t\t\t\t\tvishal\n",
      "\t\t\t\t\tsonaksh\n",
      "\t\t\t\t\t\t∅\n",
      "\t\t\t\tsiddhant\n",
      "\t\t\t\t\t∅\n",
      "\t\t\tjadhesh\n",
      "\t\t\t\t∅\n",
      "\t\themanth\n",
      "\t\t\t∅\n",
      "\tbiraj\n",
      "\t\t∅\n",
      "aakash\n",
      "\t∅\n"
     ]
    }
   ],
   "source": [
    "display_keys(tree2)"
   ]
  },
  {
   "cell_type": "markdown",
   "id": "4988d6a4",
   "metadata": {},
   "source": [
    "### FINDING, UPDATING a Node in BST"
   ]
  },
  {
   "cell_type": "code",
   "execution_count": 230,
   "id": "6a8684af",
   "metadata": {},
   "outputs": [],
   "source": [
    "def find(node, key): \n",
    "    if node is None: \n",
    "        return None \n",
    "    if key == node.key: \n",
    "        return node\n",
    "    if key < node.key: \n",
    "        return find(node.left, key)\n",
    "    if key > node.key: \n",
    "        return find(node.right, key)\n",
    "\n",
    "node = find(tree, 'hemanth')"
   ]
  },
  {
   "cell_type": "code",
   "execution_count": 231,
   "id": "d6486d47",
   "metadata": {},
   "outputs": [
    {
     "data": {
      "text/plain": [
       "'hemanth'"
      ]
     },
     "execution_count": 231,
     "metadata": {},
     "output_type": "execute_result"
    }
   ],
   "source": [
    "node.key"
   ]
  },
  {
   "cell_type": "code",
   "execution_count": 232,
   "id": "d3651c9b",
   "metadata": {},
   "outputs": [
    {
     "data": {
      "text/plain": [
       "User(username='hemanth', name='Hemanth Jain', email='hemanth@example.com')"
      ]
     },
     "execution_count": 232,
     "metadata": {},
     "output_type": "execute_result"
    }
   ],
   "source": [
    "node.value"
   ]
  },
  {
   "cell_type": "code",
   "execution_count": 233,
   "id": "ac1a4743",
   "metadata": {},
   "outputs": [],
   "source": [
    "def update(node, key, value): \n",
    "    target = find(node, key)\n",
    "    if target is not None: \n",
    "        target.value = value\n",
    "        \n",
    "update(tree, 'hemanth', User('hemanth', 'Hemanth J', 'hemanthj@example.com'))"
   ]
  },
  {
   "cell_type": "code",
   "execution_count": 234,
   "id": "904b2492",
   "metadata": {},
   "outputs": [
    {
     "data": {
      "text/plain": [
       "User(username='hemanth', name='Hemanth J', email='hemanthj@example.com')"
      ]
     },
     "execution_count": 234,
     "metadata": {},
     "output_type": "execute_result"
    }
   ],
   "source": [
    "node = find(tree, 'hemanth')\n",
    "node.value"
   ]
  },
  {
   "cell_type": "code",
   "execution_count": 236,
   "id": "bba7e351",
   "metadata": {},
   "outputs": [
    {
     "data": {
      "text/plain": [
       "[('aakash',\n",
       "  User(username='aakash', name='Aakash Rai', email='aakash@example.com')),\n",
       " ('biraj',\n",
       "  User(username='biraj', name='Biraj Das', email='biraj@example.com')),\n",
       " ('hemanth',\n",
       "  User(username='hemanth', name='Hemanth J', email='hemanthj@example.com')),\n",
       " ('jadhesh',\n",
       "  User(username='jadhesh', name='Jadhesh Verma', email='jadhesh@example.com')),\n",
       " ('siddhant',\n",
       "  User(username='siddhant', name='Siddhant Sinha', email='siddhant@example.com')),\n",
       " ('sonaksh',\n",
       "  User(username='sonaksh', name='Sonaksh Kumar', email='sonaksh@example.com')),\n",
       " ('vishal',\n",
       "  User(username='siddhant', name='Siddhant Sinha', email='siddhant@example.com'))]"
      ]
     },
     "execution_count": 236,
     "metadata": {},
     "output_type": "execute_result"
    }
   ],
   "source": [
    "def list_all(node): \n",
    "    if node is None: \n",
    "        return []\n",
    "    return list_all(node.left) + [(node.key, node.value)] + list_all(node.right)\n",
    "\n",
    "list_all(tree)"
   ]
  },
  {
   "cell_type": "code",
   "execution_count": null,
   "id": "f6041a44",
   "metadata": {},
   "outputs": [],
   "source": [
    "### BALAN"
   ]
  }
 ],
 "metadata": {
  "kernelspec": {
   "display_name": "Python 3 (ipykernel)",
   "language": "python",
   "name": "python3"
  },
  "language_info": {
   "codemirror_mode": {
    "name": "ipython",
    "version": 3
   },
   "file_extension": ".py",
   "mimetype": "text/x-python",
   "name": "python",
   "nbconvert_exporter": "python",
   "pygments_lexer": "ipython3",
   "version": "3.8.13"
  }
 },
 "nbformat": 4,
 "nbformat_minor": 5
}
